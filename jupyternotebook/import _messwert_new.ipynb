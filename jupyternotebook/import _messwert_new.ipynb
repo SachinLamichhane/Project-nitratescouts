{
 "cells": [
  {
   "cell_type": "markdown",
   "metadata": {},
   "source": [
    "## importing the messwert Table to the Postgres Database"
   ]
  },
  {
   "cell_type": "markdown",
   "metadata": {},
   "source": [
    "The aim of this Notebook is to import the Messwert Table which is provided by LANUV to our postgres Database.\n",
    "\n",
    "first we need follwing pachakges:\n",
    "* Pandas \n",
    "    \n",
    "    Pandas is essential to read and manage our data in the data frame.\n",
    "* sqlalchemy:\n",
    " \n",
    " sqlalchemy is essential to read from database, write to database, connect to database and so on.\n"
   ]
  },
  {
   "cell_type": "code",
   "execution_count": 1,
   "metadata": {},
   "outputs": [],
   "source": [
    "import pandas as pd\n",
    "import sqlalchemy"
   ]
  },
  {
   "cell_type": "markdown",
   "metadata": {},
   "source": [
    "## read the Data\n",
    "\n",
    "The name of our CSV file is \"opendata_messwert\" which is avaliable in data folder. "
   ]
  },
  {
   "cell_type": "code",
   "execution_count": 2,
   "metadata": {},
   "outputs": [],
   "source": [
    "data_in_dir = r\"../data/\"\n",
    "\n",
    "gw_quality_fname = r\"opendata_messwert.csv\"\n",
    "\n",
    "gw_quality_pfname = data_in_dir + gw_quality_fname"
   ]
  },
  {
   "cell_type": "markdown",
   "metadata": {},
   "source": [
    "Now we need to read our csv files in the pandas data fram\n",
    "##### Don't forget to add the \"delimiter\", normal csv file's delimiter is \",\" but in our case it's \";\", so we need to assign it.\n",
    "\n",
    "Also in the same time, I have assigned the \"str\" type to the two columns. and because \"sl nr\" is unique value then I decided to choose it as an index.\n"
   ]
  },
  {
   "cell_type": "code",
   "execution_count": 6,
   "metadata": {},
   "outputs": [
    {
     "name": "stderr",
     "output_type": "stream",
     "text": [
      "C:\\Users\\sinan\\anaconda3\\envs\\geo\\lib\\site-packages\\numpy\\lib\\arraysetops.py:569: FutureWarning: elementwise comparison failed; returning scalar instead, but in the future will perform elementwise comparison\n",
      "  mask |= (ar1 == a)\n"
     ]
    },
    {
     "data": {
      "text/html": [
       "<div>\n",
       "<style scoped>\n",
       "    .dataframe tbody tr th:only-of-type {\n",
       "        vertical-align: middle;\n",
       "    }\n",
       "\n",
       "    .dataframe tbody tr th {\n",
       "        vertical-align: top;\n",
       "    }\n",
       "\n",
       "    .dataframe thead th {\n",
       "        text-align: right;\n",
       "    }\n",
       "</style>\n",
       "<table border=\"1\" class=\"dataframe\">\n",
       "  <thead>\n",
       "    <tr style=\"text-align: right;\">\n",
       "      <th></th>\n",
       "      <th>messstelle_id</th>\n",
       "      <th>pna_id</th>\n",
       "      <th>datum_pn</th>\n",
       "      <th>stoff_nr</th>\n",
       "      <th>probengut</th>\n",
       "      <th>messergebnis_c</th>\n",
       "      <th>messergebnis_hinweis</th>\n",
       "      <th>bestimmungsgrenze</th>\n",
       "      <th>masseinheit</th>\n",
       "      <th>trennverfahren</th>\n",
       "      <th>verfahren</th>\n",
       "      <th>vor_ort</th>\n",
       "      <th>herkunft</th>\n",
       "      <th>aktual_dat</th>\n",
       "      <th>erstell_dat</th>\n",
       "    </tr>\n",
       "    <tr>\n",
       "      <th>sl_nr</th>\n",
       "      <th></th>\n",
       "      <th></th>\n",
       "      <th></th>\n",
       "      <th></th>\n",
       "      <th></th>\n",
       "      <th></th>\n",
       "      <th></th>\n",
       "      <th></th>\n",
       "      <th></th>\n",
       "      <th></th>\n",
       "      <th></th>\n",
       "      <th></th>\n",
       "      <th></th>\n",
       "      <th></th>\n",
       "      <th></th>\n",
       "    </tr>\n",
       "  </thead>\n",
       "  <tbody>\n",
       "    <tr>\n",
       "      <th>2903561</th>\n",
       "      <td>59620687</td>\n",
       "      <td>5/2005/4599</td>\n",
       "      <td>20051018</td>\n",
       "      <td>1164</td>\n",
       "      <td>Grundwasser</td>\n",
       "      <td>22.00000</td>\n",
       "      <td>NaN</td>\n",
       "      <td>NaN</td>\n",
       "      <td>µg/l</td>\n",
       "      <td>Gesamtgehalt</td>\n",
       "      <td>DIN 38406-E22 MAERZ 1988</td>\n",
       "      <td></td>\n",
       "      <td>HYGC_BR-AR</td>\n",
       "      <td>20051205</td>\n",
       "      <td>20051205</td>\n",
       "    </tr>\n",
       "    <tr>\n",
       "      <th>2903564</th>\n",
       "      <td>59620687</td>\n",
       "      <td>5/2005/4599</td>\n",
       "      <td>20051018</td>\n",
       "      <td>1061</td>\n",
       "      <td>Grundwasser</td>\n",
       "      <td>6.80000</td>\n",
       "      <td>NaN</td>\n",
       "      <td>NaN</td>\n",
       "      <td>-</td>\n",
       "      <td>Gesamtgehalt</td>\n",
       "      <td>DIN 38404-C5 JANUAR 1984</td>\n",
       "      <td>ja</td>\n",
       "      <td>HYGC_BR-AR</td>\n",
       "      <td>20051205</td>\n",
       "      <td>20051205</td>\n",
       "    </tr>\n",
       "    <tr>\n",
       "      <th>2903565</th>\n",
       "      <td>59620687</td>\n",
       "      <td>5/2005/4599</td>\n",
       "      <td>20051018</td>\n",
       "      <td>1011</td>\n",
       "      <td>Grundwasser</td>\n",
       "      <td>12.80000</td>\n",
       "      <td>NaN</td>\n",
       "      <td>NaN</td>\n",
       "      <td>°C</td>\n",
       "      <td>Gesamtgehalt</td>\n",
       "      <td>DIN 38404-C4 DEZEMBER 1976</td>\n",
       "      <td>ja</td>\n",
       "      <td>HYGC_BR-AR</td>\n",
       "      <td>20051205</td>\n",
       "      <td>20051205</td>\n",
       "    </tr>\n",
       "    <tr>\n",
       "      <th>2903584</th>\n",
       "      <td>59620389</td>\n",
       "      <td>5/2005/5002</td>\n",
       "      <td>20051114</td>\n",
       "      <td>1011</td>\n",
       "      <td>Grundwasser</td>\n",
       "      <td>12.30000</td>\n",
       "      <td>NaN</td>\n",
       "      <td>NaN</td>\n",
       "      <td>°C</td>\n",
       "      <td>Gesamtgehalt</td>\n",
       "      <td>DIN 38404-C4 DEZEMBER 1976</td>\n",
       "      <td>ja</td>\n",
       "      <td>HYGC_BR-AR</td>\n",
       "      <td>20051205</td>\n",
       "      <td>20051205</td>\n",
       "    </tr>\n",
       "    <tr>\n",
       "      <th>2903585</th>\n",
       "      <td>59620080</td>\n",
       "      <td>5/2005/5001</td>\n",
       "      <td>20051111</td>\n",
       "      <td>1061</td>\n",
       "      <td>Grundwasser</td>\n",
       "      <td>7.40000</td>\n",
       "      <td>NaN</td>\n",
       "      <td>NaN</td>\n",
       "      <td>-</td>\n",
       "      <td>Gesamtgehalt</td>\n",
       "      <td>DIN 38404-C5 JANUAR 1984</td>\n",
       "      <td>ja</td>\n",
       "      <td>HYGC_BR-AR</td>\n",
       "      <td>20051205</td>\n",
       "      <td>20051205</td>\n",
       "    </tr>\n",
       "  </tbody>\n",
       "</table>\n",
       "</div>"
      ],
      "text/plain": [
       "         messstelle_id       pna_id  datum_pn  stoff_nr    probengut  \\\n",
       "sl_nr                                                                  \n",
       "2903561       59620687  5/2005/4599  20051018      1164  Grundwasser   \n",
       "2903564       59620687  5/2005/4599  20051018      1061  Grundwasser   \n",
       "2903565       59620687  5/2005/4599  20051018      1011  Grundwasser   \n",
       "2903584       59620389  5/2005/5002  20051114      1011  Grundwasser   \n",
       "2903585       59620080  5/2005/5001  20051111      1061  Grundwasser   \n",
       "\n",
       "        messergebnis_c messergebnis_hinweis  bestimmungsgrenze masseinheit  \\\n",
       "sl_nr                                                                        \n",
       "2903561       22.00000                  NaN                NaN        µg/l   \n",
       "2903564        6.80000                  NaN                NaN           -   \n",
       "2903565       12.80000                  NaN                NaN          °C   \n",
       "2903584       12.30000                  NaN                NaN          °C   \n",
       "2903585        7.40000                  NaN                NaN           -   \n",
       "\n",
       "        trennverfahren                   verfahren vor_ort    herkunft  \\\n",
       "sl_nr                                                                    \n",
       "2903561   Gesamtgehalt    DIN 38406-E22 MAERZ 1988          HYGC_BR-AR   \n",
       "2903564   Gesamtgehalt    DIN 38404-C5 JANUAR 1984      ja  HYGC_BR-AR   \n",
       "2903565   Gesamtgehalt  DIN 38404-C4 DEZEMBER 1976      ja  HYGC_BR-AR   \n",
       "2903584   Gesamtgehalt  DIN 38404-C4 DEZEMBER 1976      ja  HYGC_BR-AR   \n",
       "2903585   Gesamtgehalt    DIN 38404-C5 JANUAR 1984      ja  HYGC_BR-AR   \n",
       "\n",
       "         aktual_dat  erstell_dat  \n",
       "sl_nr                             \n",
       "2903561    20051205     20051205  \n",
       "2903564    20051205     20051205  \n",
       "2903565    20051205     20051205  \n",
       "2903584    20051205     20051205  \n",
       "2903585    20051205     20051205  "
      ]
     },
     "execution_count": 6,
     "metadata": {},
     "output_type": "execute_result"
    }
   ],
   "source": [
    "df_qual = pd.read_csv(gw_quality_pfname, sep = \";\", index_col=[\"sl_nr\"], dtype = {\"messergebnis_c\":str ,\"messergebnis_hinweis\":str })\n",
    "df_qual.head()"
   ]
  },
  {
   "cell_type": "markdown",
   "metadata": {},
   "source": [
    "## changing the Data type\n",
    "we need to change some columns's data type. \n",
    "\n",
    " we have three date columns but they are not in Date type, they are just simply object which means string."
   ]
  },
  {
   "cell_type": "code",
   "execution_count": 4,
   "metadata": {},
   "outputs": [
    {
     "data": {
      "text/plain": [
       "messstelle_id             int64\n",
       "pna_id                   object\n",
       "datum_pn                  int64\n",
       "stoff_nr                  int64\n",
       "probengut                object\n",
       "messergebnis_c           object\n",
       "messergebnis_hinweis     object\n",
       "bestimmungsgrenze       float64\n",
       "masseinheit              object\n",
       "trennverfahren           object\n",
       "verfahren                object\n",
       "vor_ort                  object\n",
       "herkunft                 object\n",
       "aktual_dat                int64\n",
       "erstell_dat               int64\n",
       "dtype: object"
      ]
     },
     "execution_count": 4,
     "metadata": {},
     "output_type": "execute_result"
    }
   ],
   "source": [
    "df_qual.dtypes"
   ]
  },
  {
   "cell_type": "code",
   "execution_count": 15,
   "metadata": {},
   "outputs": [],
   "source": [
    "df_qual['datum_pn'] = pd.to_datetime(df_qual['datum_pn'], format = '%Y-%m-%d')\n",
    "\n",
    "df_qual[ 'aktual_dat'] = pd.to_datetime(df_qual[ 'aktual_dat'], format = '%Y-%m-%d')\n",
    "\n",
    "df_qual['erstell_dat'] = pd.to_datetime(df_qual['erstell_dat'], format = '%Y-%m-%d')"
   ]
  },
  {
   "cell_type": "code",
   "execution_count": 16,
   "metadata": {},
   "outputs": [
    {
     "data": {
      "text/plain": [
       "messstelle_id                    int64\n",
       "pna_id                          object\n",
       "datum_pn                datetime64[ns]\n",
       "stoff_nr                         int64\n",
       "probengut                       object\n",
       "messergebnis_c                  object\n",
       "messergebnis_hinweis            object\n",
       "bestimmungsgrenze              float64\n",
       "masseinheit                     object\n",
       "trennverfahren                  object\n",
       "verfahren                       object\n",
       "vor_ort                         object\n",
       "herkunft                        object\n",
       "aktual_dat              datetime64[ns]\n",
       "erstell_dat             datetime64[ns]\n",
       "dtype: object"
      ]
     },
     "execution_count": 16,
     "metadata": {},
     "output_type": "execute_result"
    }
   ],
   "source": [
    "df_qual.dtypes"
   ]
  },
  {
   "cell_type": "markdown",
   "metadata": {},
   "source": [
    "* Now all the tree columns which were date are in datetime64 type"
   ]
  },
  {
   "cell_type": "markdown",
   "metadata": {},
   "source": [
    "### Cretae functions\n",
    "\n",
    "Now the most important columns is \"messergebnis_c\" which simply means the result of the measurments. The data type of this columns should be float. But we have probelm. some value in \"messergebnis_c\" starts with < or > and that's why the pandas automatically assign object data type to this column.  First we need to create some functions to check that how many \"messergebnis_c\" consist of < and how many consist of > and how many value of \"messergebnis_c\" are with no greater than and less than sign. "
   ]
  },
  {
   "cell_type": "markdown",
   "metadata": {},
   "source": [
    "* First function: \n",
    "\n",
    " This function is to check that are we able to convert the string to float?"
   ]
  },
  {
   "cell_type": "code",
   "execution_count": 17,
   "metadata": {},
   "outputs": [],
   "source": [
    "# check if string can be converted to float\n",
    "def is_float(element: str) -> bool:\n",
    "    try:\n",
    "        float(element)\n",
    "        return True\n",
    "    except ValueError:\n",
    "        return False"
   ]
  },
  {
   "cell_type": "markdown",
   "metadata": {},
   "source": [
    "* Second function: \n",
    "\n",
    "The function is to check that the str starts with '<' "
   ]
  },
  {
   "cell_type": "code",
   "execution_count": 18,
   "metadata": {},
   "outputs": [],
   "source": [
    "# check if string starts with '<'\n",
    "def is_less(element: str) -> bool:\n",
    "    return element[0] == \"<\" "
   ]
  },
  {
   "cell_type": "markdown",
   "metadata": {},
   "source": [
    "* Third function:\n",
    "\n",
    "The function is to check that the str starts with '>'"
   ]
  },
  {
   "cell_type": "code",
   "execution_count": 19,
   "metadata": {},
   "outputs": [],
   "source": [
    "# check if string starts with '>'\n",
    "def is_greater(element: str) -> bool:\n",
    "    return element[0] == \">\" "
   ]
  },
  {
   "cell_type": "markdown",
   "metadata": {},
   "source": [
    "### Now apply all the three above functions on the \"messergebnis_c\" columns"
   ]
  },
  {
   "cell_type": "code",
   "execution_count": 20,
   "metadata": {},
   "outputs": [
    {
     "name": "stdout",
     "output_type": "stream",
     "text": [
      "Wall time: 3.62 s\n",
      "Wall time: 1.15 s\n",
      "Wall time: 809 ms\n"
     ]
    }
   ],
   "source": [
    "%time idx_mess_is_float   = df_qual[\"messergebnis_c\"].apply(is_float)\n",
    "#%time idx_mess_not_float  = ~idx_mess_is_float\n",
    "%time idx_mess_is_less    = df_qual[\"messergebnis_c\"].apply(is_less)\n",
    "%time idx_mess_is_greater = df_qual[\"messergebnis_c\"].apply(is_greater)"
   ]
  },
  {
   "cell_type": "markdown",
   "metadata": {},
   "source": [
    "### Now we can see that \"messergebnis_c\" of how many rows are with \"<\" and \">\" or with no sign which means they can simply convert to float with no problem."
   ]
  },
  {
   "cell_type": "code",
   "execution_count": 24,
   "metadata": {},
   "outputs": [
    {
     "data": {
      "text/plain": [
       "(1697167, 15)"
      ]
     },
     "execution_count": 24,
     "metadata": {},
     "output_type": "execute_result"
    }
   ],
   "source": [
    "# How many can be converted to float with no problem\n",
    "df_qual[idx_mess_is_float].shape"
   ]
  },
  {
   "cell_type": "code",
   "execution_count": 25,
   "metadata": {},
   "outputs": [
    {
     "data": {
      "text/plain": [
       "(1974713, 15)"
      ]
     },
     "execution_count": 25,
     "metadata": {},
     "output_type": "execute_result"
    }
   ],
   "source": [
    "# How many consist of < \n",
    "df_qual[idx_mess_is_less].shape"
   ]
  },
  {
   "cell_type": "code",
   "execution_count": 28,
   "metadata": {},
   "outputs": [
    {
     "data": {
      "text/plain": [
       "(33, 15)"
      ]
     },
     "execution_count": 28,
     "metadata": {},
     "output_type": "execute_result"
    }
   ],
   "source": [
    "# how many consist of >\n",
    "df_qual[idx_mess_is_greater].shape"
   ]
  },
  {
   "cell_type": "markdown",
   "metadata": {},
   "source": [
    "## check again\n",
    "\n",
    "Now is the time to check again all the value of \"messergebnis_c\" to be sure that there is no other problem"
   ]
  },
  {
   "cell_type": "code",
   "execution_count": 8,
   "metadata": {},
   "outputs": [],
   "source": [
    "assert idx_mess_is_float.sum() + (~idx_mess_is_float).sum() == df_qual.shape[0], \"mess has either to be float or not float\""
   ]
  },
  {
   "cell_type": "code",
   "execution_count": 9,
   "metadata": {},
   "outputs": [],
   "source": [
    "# ((idx_mess_is_less | idx_mess_is_greater) == idx_mess_not_float).value_counts()\n",
    "assert ((idx_mess_is_less | idx_mess_is_greater) != (~idx_mess_is_float)).sum() == 0, \"'not float' supposed to come from '<' or '>' but nothing else.\""
   ]
  },
  {
   "cell_type": "code",
   "execution_count": 10,
   "metadata": {},
   "outputs": [
    {
     "name": "stdout",
     "output_type": "stream",
     "text": [
      "Empty DataFrame\n",
      "Columns: [messstelle_id, pna_id, datum_pn, stoff_nr, probengut, messergebnis_c, messergebnis_hinweis, bestimmungsgrenze, masseinheit, trennverfahren, verfahren, vor_ort, herkunft, aktual_dat, erstell_dat]\n",
      "Index: []\n"
     ]
    }
   ],
   "source": [
    "# Print records which are neither less nor greater nor float -> should be empty data frame\n",
    "assert df_qual[~idx_mess_is_less & ~idx_mess_is_greater & ~idx_mess_is_float].shape[0] == 0\n",
    "print(df_qual[~idx_mess_is_less & ~idx_mess_is_greater & ~idx_mess_is_float])"
   ]
  },
  {
   "cell_type": "markdown",
   "metadata": {},
   "source": [
    "## Create a new column\n",
    "\n",
    "In this step, we want to create a new column with the name of \"messergebnis_cm\". The value in this column is based on \"messergebnis_c\". There are three diffrent values in this column.\n",
    "\n",
    "* = : Which means that the value in messergebnis_c has no sign (< or >)\n",
    "* > : Which means that the value in messergebnis_c starts with sign of >\n",
    "* < : Which means that the value in messergebnis_c starts with sogn of <"
   ]
  },
  {
   "cell_type": "code",
   "execution_count": 30,
   "metadata": {},
   "outputs": [],
   "source": [
    "df_qual.loc[idx_mess_is_float, \"messergebnis_cm\"] = \"=\"\n",
    "df_qual.loc[idx_mess_is_less, \"messergebnis_cm\"] = \"<\"\n",
    "df_qual.loc[idx_mess_is_greater, \"messergebnis_cm\"] = \">\""
   ]
  },
  {
   "cell_type": "markdown",
   "metadata": {},
   "source": [
    "## replace the signs with noting\n",
    "\n",
    "Now is the time to delete the < and > from the biggining of each cell. but acctually we have these value in another column (messergebnis_cm)"
   ]
  },
  {
   "cell_type": "code",
   "execution_count": 31,
   "metadata": {},
   "outputs": [],
   "source": [
    "df_qual.messergebnis_c = df_qual.messergebnis_c.replace({'>':''}, regex=True)"
   ]
  },
  {
   "cell_type": "code",
   "execution_count": 32,
   "metadata": {},
   "outputs": [],
   "source": [
    "df_qual.messergebnis_c = df_qual.messergebnis_c.replace({'<':''}, regex=True)"
   ]
  },
  {
   "cell_type": "markdown",
   "metadata": {},
   "source": [
    "## check the datafram again"
   ]
  },
  {
   "cell_type": "code",
   "execution_count": 33,
   "metadata": {},
   "outputs": [
    {
     "data": {
      "text/html": [
       "<div>\n",
       "<style scoped>\n",
       "    .dataframe tbody tr th:only-of-type {\n",
       "        vertical-align: middle;\n",
       "    }\n",
       "\n",
       "    .dataframe tbody tr th {\n",
       "        vertical-align: top;\n",
       "    }\n",
       "\n",
       "    .dataframe thead th {\n",
       "        text-align: right;\n",
       "    }\n",
       "</style>\n",
       "<table border=\"1\" class=\"dataframe\">\n",
       "  <thead>\n",
       "    <tr style=\"text-align: right;\">\n",
       "      <th></th>\n",
       "      <th>messstelle_id</th>\n",
       "      <th>pna_id</th>\n",
       "      <th>datum_pn</th>\n",
       "      <th>stoff_nr</th>\n",
       "      <th>probengut</th>\n",
       "      <th>messergebnis_c</th>\n",
       "      <th>messergebnis_hinweis</th>\n",
       "      <th>bestimmungsgrenze</th>\n",
       "      <th>masseinheit</th>\n",
       "      <th>trennverfahren</th>\n",
       "      <th>verfahren</th>\n",
       "      <th>vor_ort</th>\n",
       "      <th>herkunft</th>\n",
       "      <th>aktual_dat</th>\n",
       "      <th>erstell_dat</th>\n",
       "      <th>messergebnis_cm</th>\n",
       "    </tr>\n",
       "    <tr>\n",
       "      <th>sl_nr</th>\n",
       "      <th></th>\n",
       "      <th></th>\n",
       "      <th></th>\n",
       "      <th></th>\n",
       "      <th></th>\n",
       "      <th></th>\n",
       "      <th></th>\n",
       "      <th></th>\n",
       "      <th></th>\n",
       "      <th></th>\n",
       "      <th></th>\n",
       "      <th></th>\n",
       "      <th></th>\n",
       "      <th></th>\n",
       "      <th></th>\n",
       "      <th></th>\n",
       "    </tr>\n",
       "  </thead>\n",
       "  <tbody>\n",
       "    <tr>\n",
       "      <th>2903561</th>\n",
       "      <td>59620687</td>\n",
       "      <td>5/2005/4599</td>\n",
       "      <td>1970-01-01 00:00:00.020051018</td>\n",
       "      <td>1164</td>\n",
       "      <td>Grundwasser</td>\n",
       "      <td>22.00000</td>\n",
       "      <td>NaN</td>\n",
       "      <td>NaN</td>\n",
       "      <td>µg/l</td>\n",
       "      <td>Gesamtgehalt</td>\n",
       "      <td>DIN 38406-E22 MAERZ 1988</td>\n",
       "      <td></td>\n",
       "      <td>HYGC_BR-AR</td>\n",
       "      <td>1970-01-01 00:00:00.020051205</td>\n",
       "      <td>1970-01-01 00:00:00.020051205</td>\n",
       "      <td>=</td>\n",
       "    </tr>\n",
       "    <tr>\n",
       "      <th>2903564</th>\n",
       "      <td>59620687</td>\n",
       "      <td>5/2005/4599</td>\n",
       "      <td>1970-01-01 00:00:00.020051018</td>\n",
       "      <td>1061</td>\n",
       "      <td>Grundwasser</td>\n",
       "      <td>6.80000</td>\n",
       "      <td>NaN</td>\n",
       "      <td>NaN</td>\n",
       "      <td>-</td>\n",
       "      <td>Gesamtgehalt</td>\n",
       "      <td>DIN 38404-C5 JANUAR 1984</td>\n",
       "      <td>ja</td>\n",
       "      <td>HYGC_BR-AR</td>\n",
       "      <td>1970-01-01 00:00:00.020051205</td>\n",
       "      <td>1970-01-01 00:00:00.020051205</td>\n",
       "      <td>=</td>\n",
       "    </tr>\n",
       "    <tr>\n",
       "      <th>2903565</th>\n",
       "      <td>59620687</td>\n",
       "      <td>5/2005/4599</td>\n",
       "      <td>1970-01-01 00:00:00.020051018</td>\n",
       "      <td>1011</td>\n",
       "      <td>Grundwasser</td>\n",
       "      <td>12.80000</td>\n",
       "      <td>NaN</td>\n",
       "      <td>NaN</td>\n",
       "      <td>°C</td>\n",
       "      <td>Gesamtgehalt</td>\n",
       "      <td>DIN 38404-C4 DEZEMBER 1976</td>\n",
       "      <td>ja</td>\n",
       "      <td>HYGC_BR-AR</td>\n",
       "      <td>1970-01-01 00:00:00.020051205</td>\n",
       "      <td>1970-01-01 00:00:00.020051205</td>\n",
       "      <td>=</td>\n",
       "    </tr>\n",
       "    <tr>\n",
       "      <th>2903584</th>\n",
       "      <td>59620389</td>\n",
       "      <td>5/2005/5002</td>\n",
       "      <td>1970-01-01 00:00:00.020051114</td>\n",
       "      <td>1011</td>\n",
       "      <td>Grundwasser</td>\n",
       "      <td>12.30000</td>\n",
       "      <td>NaN</td>\n",
       "      <td>NaN</td>\n",
       "      <td>°C</td>\n",
       "      <td>Gesamtgehalt</td>\n",
       "      <td>DIN 38404-C4 DEZEMBER 1976</td>\n",
       "      <td>ja</td>\n",
       "      <td>HYGC_BR-AR</td>\n",
       "      <td>1970-01-01 00:00:00.020051205</td>\n",
       "      <td>1970-01-01 00:00:00.020051205</td>\n",
       "      <td>=</td>\n",
       "    </tr>\n",
       "    <tr>\n",
       "      <th>2903585</th>\n",
       "      <td>59620080</td>\n",
       "      <td>5/2005/5001</td>\n",
       "      <td>1970-01-01 00:00:00.020051111</td>\n",
       "      <td>1061</td>\n",
       "      <td>Grundwasser</td>\n",
       "      <td>7.40000</td>\n",
       "      <td>NaN</td>\n",
       "      <td>NaN</td>\n",
       "      <td>-</td>\n",
       "      <td>Gesamtgehalt</td>\n",
       "      <td>DIN 38404-C5 JANUAR 1984</td>\n",
       "      <td>ja</td>\n",
       "      <td>HYGC_BR-AR</td>\n",
       "      <td>1970-01-01 00:00:00.020051205</td>\n",
       "      <td>1970-01-01 00:00:00.020051205</td>\n",
       "      <td>=</td>\n",
       "    </tr>\n",
       "    <tr>\n",
       "      <th>...</th>\n",
       "      <td>...</td>\n",
       "      <td>...</td>\n",
       "      <td>...</td>\n",
       "      <td>...</td>\n",
       "      <td>...</td>\n",
       "      <td>...</td>\n",
       "      <td>...</td>\n",
       "      <td>...</td>\n",
       "      <td>...</td>\n",
       "      <td>...</td>\n",
       "      <td>...</td>\n",
       "      <td>...</td>\n",
       "      <td>...</td>\n",
       "      <td>...</td>\n",
       "      <td>...</td>\n",
       "      <td>...</td>\n",
       "    </tr>\n",
       "    <tr>\n",
       "      <th>2882791</th>\n",
       "      <td>10407406</td>\n",
       "      <td>1/2004/91121</td>\n",
       "      <td>1970-01-01 00:00:00.020041026</td>\n",
       "      <td>1331</td>\n",
       "      <td>Grundwasser</td>\n",
       "      <td>19.20000</td>\n",
       "      <td>NaN</td>\n",
       "      <td>NaN</td>\n",
       "      <td>mg/l</td>\n",
       "      <td>Gesamtgehalt</td>\n",
       "      <td>DIN 38405-D19 FEBRUAR 1988</td>\n",
       "      <td></td>\n",
       "      <td>HYGC_BR-K</td>\n",
       "      <td>1970-01-01 00:00:00.020051107</td>\n",
       "      <td>1970-01-01 00:00:00.020051107</td>\n",
       "      <td>=</td>\n",
       "    </tr>\n",
       "    <tr>\n",
       "      <th>2882792</th>\n",
       "      <td>10407406</td>\n",
       "      <td>1/2004/91121</td>\n",
       "      <td>1970-01-01 00:00:00.020041026</td>\n",
       "      <td>1472</td>\n",
       "      <td>Grundwasser</td>\n",
       "      <td>5.13000</td>\n",
       "      <td>NaN</td>\n",
       "      <td>NaN</td>\n",
       "      <td>mmol/l</td>\n",
       "      <td>Gesamtgehalt</td>\n",
       "      <td>DIN 38409-H7-1-2 MAI 1979</td>\n",
       "      <td>ja</td>\n",
       "      <td>HYGC_BR-K</td>\n",
       "      <td>1970-01-01 00:00:00.020051107</td>\n",
       "      <td>1970-01-01 00:00:00.020051107</td>\n",
       "      <td>=</td>\n",
       "    </tr>\n",
       "    <tr>\n",
       "      <th>2882793</th>\n",
       "      <td>10407406</td>\n",
       "      <td>1/2004/91121</td>\n",
       "      <td>1970-01-01 00:00:00.020041026</td>\n",
       "      <td>1477</td>\n",
       "      <td>Grundwasser</td>\n",
       "      <td>0.35000</td>\n",
       "      <td>NaN</td>\n",
       "      <td>NaN</td>\n",
       "      <td>mmol/l</td>\n",
       "      <td>Gesamtgehalt</td>\n",
       "      <td>DIN 38409-H7-2-2 MAI 1979</td>\n",
       "      <td></td>\n",
       "      <td>HYGC_BR-K</td>\n",
       "      <td>1970-01-01 00:00:00.020051107</td>\n",
       "      <td>1970-01-01 00:00:00.020051107</td>\n",
       "      <td>=</td>\n",
       "    </tr>\n",
       "    <tr>\n",
       "      <th>2882794</th>\n",
       "      <td>10407406</td>\n",
       "      <td>1/2004/91121</td>\n",
       "      <td>1970-01-01 00:00:00.020041026</td>\n",
       "      <td>1521</td>\n",
       "      <td>Grundwasser</td>\n",
       "      <td>0.50000</td>\n",
       "      <td>NaN</td>\n",
       "      <td>NaN</td>\n",
       "      <td>mg/l</td>\n",
       "      <td>Membranfilter</td>\n",
       "      <td>DIN 38409-H3 JUNI 1983</td>\n",
       "      <td></td>\n",
       "      <td>HYGC_BR-K</td>\n",
       "      <td>1970-01-01 00:00:00.020051107</td>\n",
       "      <td>1970-01-01 00:00:00.020051107</td>\n",
       "      <td>=</td>\n",
       "    </tr>\n",
       "    <tr>\n",
       "      <th>2882795</th>\n",
       "      <td>10407406</td>\n",
       "      <td>1/2004/91121</td>\n",
       "      <td>1970-01-01 00:00:00.020041026</td>\n",
       "      <td>1690</td>\n",
       "      <td>Grundwasser</td>\n",
       "      <td>0.00000</td>\n",
       "      <td>NaN</td>\n",
       "      <td>NaN</td>\n",
       "      <td>1/ml</td>\n",
       "      <td>Gesamtgehalt</td>\n",
       "      <td>GEMAESS DIN 38411-K5 FEBRUAR 1983</td>\n",
       "      <td></td>\n",
       "      <td>HYGC_BR-K</td>\n",
       "      <td>1970-01-01 00:00:00.020051107</td>\n",
       "      <td>1970-01-01 00:00:00.020051107</td>\n",
       "      <td>=</td>\n",
       "    </tr>\n",
       "  </tbody>\n",
       "</table>\n",
       "<p>3671913 rows × 16 columns</p>\n",
       "</div>"
      ],
      "text/plain": [
       "         messstelle_id        pna_id                      datum_pn  stoff_nr  \\\n",
       "sl_nr                                                                          \n",
       "2903561       59620687   5/2005/4599 1970-01-01 00:00:00.020051018      1164   \n",
       "2903564       59620687   5/2005/4599 1970-01-01 00:00:00.020051018      1061   \n",
       "2903565       59620687   5/2005/4599 1970-01-01 00:00:00.020051018      1011   \n",
       "2903584       59620389   5/2005/5002 1970-01-01 00:00:00.020051114      1011   \n",
       "2903585       59620080   5/2005/5001 1970-01-01 00:00:00.020051111      1061   \n",
       "...                ...           ...                           ...       ...   \n",
       "2882791       10407406  1/2004/91121 1970-01-01 00:00:00.020041026      1331   \n",
       "2882792       10407406  1/2004/91121 1970-01-01 00:00:00.020041026      1472   \n",
       "2882793       10407406  1/2004/91121 1970-01-01 00:00:00.020041026      1477   \n",
       "2882794       10407406  1/2004/91121 1970-01-01 00:00:00.020041026      1521   \n",
       "2882795       10407406  1/2004/91121 1970-01-01 00:00:00.020041026      1690   \n",
       "\n",
       "           probengut messergebnis_c messergebnis_hinweis  bestimmungsgrenze  \\\n",
       "sl_nr                                                                         \n",
       "2903561  Grundwasser       22.00000                  NaN                NaN   \n",
       "2903564  Grundwasser        6.80000                  NaN                NaN   \n",
       "2903565  Grundwasser       12.80000                  NaN                NaN   \n",
       "2903584  Grundwasser       12.30000                  NaN                NaN   \n",
       "2903585  Grundwasser        7.40000                  NaN                NaN   \n",
       "...              ...            ...                  ...                ...   \n",
       "2882791  Grundwasser       19.20000                  NaN                NaN   \n",
       "2882792  Grundwasser        5.13000                  NaN                NaN   \n",
       "2882793  Grundwasser        0.35000                  NaN                NaN   \n",
       "2882794  Grundwasser        0.50000                  NaN                NaN   \n",
       "2882795  Grundwasser        0.00000                  NaN                NaN   \n",
       "\n",
       "        masseinheit trennverfahren                          verfahren vor_ort  \\\n",
       "sl_nr                                                                           \n",
       "2903561        µg/l   Gesamtgehalt           DIN 38406-E22 MAERZ 1988           \n",
       "2903564           -   Gesamtgehalt           DIN 38404-C5 JANUAR 1984      ja   \n",
       "2903565          °C   Gesamtgehalt         DIN 38404-C4 DEZEMBER 1976      ja   \n",
       "2903584          °C   Gesamtgehalt         DIN 38404-C4 DEZEMBER 1976      ja   \n",
       "2903585           -   Gesamtgehalt           DIN 38404-C5 JANUAR 1984      ja   \n",
       "...             ...            ...                                ...     ...   \n",
       "2882791        mg/l   Gesamtgehalt         DIN 38405-D19 FEBRUAR 1988           \n",
       "2882792      mmol/l   Gesamtgehalt          DIN 38409-H7-1-2 MAI 1979      ja   \n",
       "2882793      mmol/l   Gesamtgehalt          DIN 38409-H7-2-2 MAI 1979           \n",
       "2882794        mg/l  Membranfilter             DIN 38409-H3 JUNI 1983           \n",
       "2882795        1/ml   Gesamtgehalt  GEMAESS DIN 38411-K5 FEBRUAR 1983           \n",
       "\n",
       "           herkunft                    aktual_dat  \\\n",
       "sl_nr                                               \n",
       "2903561  HYGC_BR-AR 1970-01-01 00:00:00.020051205   \n",
       "2903564  HYGC_BR-AR 1970-01-01 00:00:00.020051205   \n",
       "2903565  HYGC_BR-AR 1970-01-01 00:00:00.020051205   \n",
       "2903584  HYGC_BR-AR 1970-01-01 00:00:00.020051205   \n",
       "2903585  HYGC_BR-AR 1970-01-01 00:00:00.020051205   \n",
       "...             ...                           ...   \n",
       "2882791   HYGC_BR-K 1970-01-01 00:00:00.020051107   \n",
       "2882792   HYGC_BR-K 1970-01-01 00:00:00.020051107   \n",
       "2882793   HYGC_BR-K 1970-01-01 00:00:00.020051107   \n",
       "2882794   HYGC_BR-K 1970-01-01 00:00:00.020051107   \n",
       "2882795   HYGC_BR-K 1970-01-01 00:00:00.020051107   \n",
       "\n",
       "                          erstell_dat messergebnis_cm  \n",
       "sl_nr                                                  \n",
       "2903561 1970-01-01 00:00:00.020051205               =  \n",
       "2903564 1970-01-01 00:00:00.020051205               =  \n",
       "2903565 1970-01-01 00:00:00.020051205               =  \n",
       "2903584 1970-01-01 00:00:00.020051205               =  \n",
       "2903585 1970-01-01 00:00:00.020051205               =  \n",
       "...                               ...             ...  \n",
       "2882791 1970-01-01 00:00:00.020051107               =  \n",
       "2882792 1970-01-01 00:00:00.020051107               =  \n",
       "2882793 1970-01-01 00:00:00.020051107               =  \n",
       "2882794 1970-01-01 00:00:00.020051107               =  \n",
       "2882795 1970-01-01 00:00:00.020051107               =  \n",
       "\n",
       "[3671913 rows x 16 columns]"
      ]
     },
     "execution_count": 33,
     "metadata": {},
     "output_type": "execute_result"
    }
   ],
   "source": [
    "df_qual"
   ]
  },
  {
   "cell_type": "markdown",
   "metadata": {},
   "source": [
    "## converting messergebnis_c to float\n",
    "\n",
    "Finally we are in the stage that we can now convert the messergebnis_c to float"
   ]
  },
  {
   "cell_type": "code",
   "execution_count": 37,
   "metadata": {},
   "outputs": [],
   "source": [
    " df_qual.messergebnis_c = df_qual.messergebnis_c.astype(float)\n",
    "\n",
    "\n"
   ]
  },
  {
   "cell_type": "code",
   "execution_count": 38,
   "metadata": {},
   "outputs": [
    {
     "data": {
      "text/plain": [
       "messstelle_id                    int64\n",
       "pna_id                          object\n",
       "datum_pn                datetime64[ns]\n",
       "stoff_nr                         int64\n",
       "probengut                       object\n",
       "messergebnis_c                 float64\n",
       "messergebnis_hinweis            object\n",
       "bestimmungsgrenze              float64\n",
       "masseinheit                     object\n",
       "trennverfahren                  object\n",
       "verfahren                       object\n",
       "vor_ort                         object\n",
       "herkunft                        object\n",
       "aktual_dat              datetime64[ns]\n",
       "erstell_dat             datetime64[ns]\n",
       "messergebnis_cm                 object\n",
       "dtype: object"
      ]
     },
     "execution_count": 38,
     "metadata": {},
     "output_type": "execute_result"
    }
   ],
   "source": [
    "df_qual.dtypes"
   ]
  },
  {
   "cell_type": "markdown",
   "metadata": {},
   "source": [
    "## Eerything is fine now\n",
    "\n",
    "As you can simply see above that all the columns's type is what we want. \n",
    "\n",
    "* messergebnis_c is now in float\n",
    "* datum_pn is now in datetime64\n",
    "* aktual_dat is now in datetime64\n",
    "* erstell_dat is now in datetime64\n"
   ]
  },
  {
   "cell_type": "markdown",
   "metadata": {},
   "source": [
    "## once again check externally to be 100% sure"
   ]
  },
  {
   "cell_type": "code",
   "execution_count": 41,
   "metadata": {},
   "outputs": [],
   "source": [
    "# write on csv to check externally\n",
    "df_qual.to_csv(\"test.csv\")"
   ]
  },
  {
   "cell_type": "markdown",
   "metadata": {},
   "source": [
    "## Import to Database\n",
    "\n",
    "Now is the time to import our datafram to database with no problem. \n",
    "\n",
    "First we need to connect  to our database. and then import the datafram. \n",
    "\n",
    "In this case, I have imported the data to schema \"sina\" which has been already created in the PGadmin by myself, but you can import to your Schema."
   ]
  },
  {
   "cell_type": "code",
   "execution_count": 19,
   "metadata": {},
   "outputs": [],
   "source": [
    "# replace your database link in below\n",
    "engine = sqlalchemy.create_engine(\"postgresql://xxxxxxxxxxxxxxxxxxx\")"
   ]
  },
  {
   "cell_type": "code",
   "execution_count": 1,
   "metadata": {},
   "outputs": [],
   "source": [
    "%time df_qual.to_sql(con=engine, name=\"messwert\", schema=\"sachin\", if_exists=\"replace\", index=False)"
   ]
  },
  {
   "cell_type": "markdown",
   "metadata": {},
   "source": [
    "# Finish !\n",
    "## Good Luck, You are doing well"
   ]
  },
  {
   "cell_type": "code",
   "execution_count": null,
   "metadata": {},
   "outputs": [],
   "source": []
  }
 ],
 "metadata": {
  "kernelspec": {
   "display_name": "Python 3 (ipykernel)",
   "language": "python",
   "name": "python3"
  },
  "language_info": {
   "codemirror_mode": {
    "name": "ipython",
    "version": 3
   },
   "file_extension": ".py",
   "mimetype": "text/x-python",
   "name": "python",
   "nbconvert_exporter": "python",
   "pygments_lexer": "ipython3",
   "version": "3.9.12"
  }
 },
 "nbformat": 4,
 "nbformat_minor": 4
}
