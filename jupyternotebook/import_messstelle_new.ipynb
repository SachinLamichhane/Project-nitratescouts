{
 "cells": [
  {
   "cell_type": "markdown",
   "metadata": {},
   "source": [
    "# Aim of This Notebook\n"
   ]
  },
  {
   "cell_type": "markdown",
   "metadata": {},
   "source": [
    "In this notebook, we want to import the \"messstelle.csv\" file to our Postgres Database\n",
    "\n",
    " we need follwing packages: \n",
    "\n",
    "* Pandas \n",
    "* Sqlalchemy\n"
   ]
  },
  {
   "cell_type": "code",
   "execution_count": 1,
   "metadata": {},
   "outputs": [],
   "source": [
    "#importing the packages\n",
    "\n",
    "import pandas as pd\n",
    "from sqlalchemy import create_engine\n",
    "import sqlalchemy\n",
    "\n"
   ]
  },
  {
   "cell_type": "markdown",
   "metadata": {},
   "source": [
    "# Data location"
   ]
  },
  {
   "cell_type": "markdown",
   "metadata": {},
   "source": [
    " First, we need to create the path of our data. \n"
   ]
  },
  {
   "cell_type": "code",
   "execution_count": 40,
   "metadata": {},
   "outputs": [],
   "source": [
    "data_in_dir = r\"../data/\"\n",
    "\n",
    "gw_station_fname = r\"opendata_messstelle.csv\"\n",
    "\n",
    "gw_station_pfname = data_in_dir + gw_station_fname"
   ]
  },
  {
   "cell_type": "markdown",
   "metadata": {},
   "source": [
    "## Read the file\n",
    "Don't forget to add the \"delimiter\", normal csv file's delimiter is \",\" but in our case it's \";\", so we need to assign it."
   ]
  },
  {
   "cell_type": "code",
   "execution_count": 59,
   "metadata": {},
   "outputs": [
    {
     "data": {
      "text/html": [
       "<div>\n",
       "<style scoped>\n",
       "    .dataframe tbody tr th:only-of-type {\n",
       "        vertical-align: middle;\n",
       "    }\n",
       "\n",
       "    .dataframe tbody tr th {\n",
       "        vertical-align: top;\n",
       "    }\n",
       "\n",
       "    .dataframe thead th {\n",
       "        text-align: right;\n",
       "    }\n",
       "</style>\n",
       "<table border=\"1\" class=\"dataframe\">\n",
       "  <thead>\n",
       "    <tr style=\"text-align: right;\">\n",
       "      <th></th>\n",
       "      <th>sl_nr</th>\n",
       "      <th>messstelle_id</th>\n",
       "      <th>name</th>\n",
       "      <th>e32</th>\n",
       "      <th>n32</th>\n",
       "      <th>gw_stockwerk</th>\n",
       "      <th>grundstueck</th>\n",
       "      <th>gemeinde_id</th>\n",
       "      <th>gwhorizont_id</th>\n",
       "      <th>gwhorizont</th>\n",
       "      <th>...</th>\n",
       "      <th>beobachtung_wasserstand</th>\n",
       "      <th>eigentuemer</th>\n",
       "      <th>betreiber</th>\n",
       "      <th>filterlaenge_cm</th>\n",
       "      <th>sumpfrohrlaenge_cm</th>\n",
       "      <th>ausbaudurchmesser_mm</th>\n",
       "      <th>historischer_ruhe_wsp</th>\n",
       "      <th>einbaulaenge_cm</th>\n",
       "      <th>oberkante_filter_cm</th>\n",
       "      <th>unterkante_filter_cm</th>\n",
       "    </tr>\n",
       "  </thead>\n",
       "  <tbody>\n",
       "    <tr>\n",
       "      <th>0</th>\n",
       "      <td>67530</td>\n",
       "      <td>32505929</td>\n",
       "      <td>UWB-Ddorf 01285</td>\n",
       "      <td>343064</td>\n",
       "      <td>5678019</td>\n",
       "      <td>1.0</td>\n",
       "      <td></td>\n",
       "      <td>05111000</td>\n",
       "      <td>NaN</td>\n",
       "      <td>NaN</td>\n",
       "      <td>...</td>\n",
       "      <td>-</td>\n",
       "      <td>Stadt Düsseldorf                              ...</td>\n",
       "      <td>Stadt Düsseldorf                              ...</td>\n",
       "      <td>NaN</td>\n",
       "      <td>NaN</td>\n",
       "      <td>NaN</td>\n",
       "      <td>NaN</td>\n",
       "      <td>NaN</td>\n",
       "      <td>NaN</td>\n",
       "      <td>NaN</td>\n",
       "    </tr>\n",
       "    <tr>\n",
       "      <th>1</th>\n",
       "      <td>51044</td>\n",
       "      <td>10446746</td>\n",
       "      <td>60GP012303</td>\n",
       "      <td>292077</td>\n",
       "      <td>5645349</td>\n",
       "      <td>NaN</td>\n",
       "      <td>privat</td>\n",
       "      <td>NL000882</td>\n",
       "      <td>5</td>\n",
       "      <td>Zwischenmittel</td>\n",
       "      <td>...</td>\n",
       "      <td>-</td>\n",
       "      <td>Prov. Limburg (NL)                            ...</td>\n",
       "      <td>Prov. Limburg (NL)                            ...</td>\n",
       "      <td>200.0</td>\n",
       "      <td>NaN</td>\n",
       "      <td>NaN</td>\n",
       "      <td>NaN</td>\n",
       "      <td>16893.0</td>\n",
       "      <td>-3333.0</td>\n",
       "      <td>-3533.0</td>\n",
       "    </tr>\n",
       "    <tr>\n",
       "      <th>2</th>\n",
       "      <td>51070</td>\n",
       "      <td>87005323</td>\n",
       "      <td>58BP024606</td>\n",
       "      <td>287141</td>\n",
       "      <td>5684635</td>\n",
       "      <td>NaN</td>\n",
       "      <td>privat</td>\n",
       "      <td>NL001640</td>\n",
       "      <td>6D</td>\n",
       "      <td>Neurather Sand</td>\n",
       "      <td>...</td>\n",
       "      <td>-</td>\n",
       "      <td>Prov. Limburg (NL)                            ...</td>\n",
       "      <td>Prov. Limburg (NL)                            ...</td>\n",
       "      <td>500.0</td>\n",
       "      <td>300.0</td>\n",
       "      <td>NaN</td>\n",
       "      <td>NaN</td>\n",
       "      <td>32667.0</td>\n",
       "      <td>-29083.0</td>\n",
       "      <td>-29583.0</td>\n",
       "    </tr>\n",
       "    <tr>\n",
       "      <th>3</th>\n",
       "      <td>68442</td>\n",
       "      <td>80000290</td>\n",
       "      <td>Krinsend 0079 neu</td>\n",
       "      <td>309490</td>\n",
       "      <td>5678060</td>\n",
       "      <td>1.0</td>\n",
       "      <td></td>\n",
       "      <td>05166024</td>\n",
       "      <td>NaN</td>\n",
       "      <td>NaN</td>\n",
       "      <td>...</td>\n",
       "      <td>-</td>\n",
       "      <td>Land NRW                                      ...</td>\n",
       "      <td>NaN</td>\n",
       "      <td>NaN</td>\n",
       "      <td>NaN</td>\n",
       "      <td>NaN</td>\n",
       "      <td>NaN</td>\n",
       "      <td>1517.0</td>\n",
       "      <td>4832.0</td>\n",
       "      <td>4832.0</td>\n",
       "    </tr>\n",
       "    <tr>\n",
       "      <th>4</th>\n",
       "      <td>68518</td>\n",
       "      <td>86583852</td>\n",
       "      <td>WG102GM93-3</td>\n",
       "      <td>316741</td>\n",
       "      <td>5680237</td>\n",
       "      <td>NaN</td>\n",
       "      <td>privat</td>\n",
       "      <td>05166032</td>\n",
       "      <td>NaN</td>\n",
       "      <td>NaN</td>\n",
       "      <td>...</td>\n",
       "      <td>-</td>\n",
       "      <td>NiederrheinWasser GmbH (ehem. Niederheinwerke)...</td>\n",
       "      <td>NiederrheinWasser GmbH (ehem. Niederheinwerke)...</td>\n",
       "      <td>200.0</td>\n",
       "      <td>NaN</td>\n",
       "      <td>80.0</td>\n",
       "      <td>NaN</td>\n",
       "      <td>5400.0</td>\n",
       "      <td>1413.0</td>\n",
       "      <td>1213.0</td>\n",
       "    </tr>\n",
       "  </tbody>\n",
       "</table>\n",
       "<p>5 rows × 39 columns</p>\n",
       "</div>"
      ],
      "text/plain": [
       "   sl_nr  messstelle_id                 name     e32      n32  gw_stockwerk  \\\n",
       "0  67530       32505929  UWB-Ddorf 01285      343064  5678019           1.0   \n",
       "1  51044       10446746  60GP012303           292077  5645349           NaN   \n",
       "2  51070       87005323  58BP024606           287141  5684635           NaN   \n",
       "3  68442       80000290  Krinsend 0079 neu    309490  5678060           1.0   \n",
       "4  68518       86583852  WG102GM93-3          316741  5680237           NaN   \n",
       "\n",
       "  grundstueck gemeinde_id gwhorizont_id      gwhorizont  ...  \\\n",
       "0                05111000           NaN             NaN  ...   \n",
       "1      privat    NL000882             5  Zwischenmittel  ...   \n",
       "2      privat    NL001640            6D  Neurather Sand  ...   \n",
       "3                05166024           NaN             NaN  ...   \n",
       "4      privat    05166032           NaN             NaN  ...   \n",
       "\n",
       "  beobachtung_wasserstand                                        eigentuemer  \\\n",
       "0                       -  Stadt Düsseldorf                              ...   \n",
       "1                       -  Prov. Limburg (NL)                            ...   \n",
       "2                       -  Prov. Limburg (NL)                            ...   \n",
       "3                       -  Land NRW                                      ...   \n",
       "4                       -  NiederrheinWasser GmbH (ehem. Niederheinwerke)...   \n",
       "\n",
       "                                           betreiber filterlaenge_cm  \\\n",
       "0  Stadt Düsseldorf                              ...             NaN   \n",
       "1  Prov. Limburg (NL)                            ...           200.0   \n",
       "2  Prov. Limburg (NL)                            ...           500.0   \n",
       "3                                                NaN             NaN   \n",
       "4  NiederrheinWasser GmbH (ehem. Niederheinwerke)...           200.0   \n",
       "\n",
       "  sumpfrohrlaenge_cm ausbaudurchmesser_mm historischer_ruhe_wsp  \\\n",
       "0                NaN                  NaN                   NaN   \n",
       "1                NaN                  NaN                   NaN   \n",
       "2              300.0                  NaN                   NaN   \n",
       "3                NaN                  NaN                   NaN   \n",
       "4                NaN                 80.0                   NaN   \n",
       "\n",
       "  einbaulaenge_cm oberkante_filter_cm unterkante_filter_cm  \n",
       "0             NaN                 NaN                  NaN  \n",
       "1         16893.0             -3333.0              -3533.0  \n",
       "2         32667.0            -29083.0             -29583.0  \n",
       "3          1517.0              4832.0               4832.0  \n",
       "4          5400.0              1413.0               1213.0  \n",
       "\n",
       "[5 rows x 39 columns]"
      ]
     },
     "execution_count": 59,
     "metadata": {},
     "output_type": "execute_result"
    }
   ],
   "source": [
    "df = pd.read_csv(gw_station_pfname, delimiter=';', header='infer')\n",
    "df.head()"
   ]
  },
  {
   "cell_type": "markdown",
   "metadata": {},
   "source": [
    "## data type\n",
    "\n",
    "e32 and n32 should be int if we want to create geometry columns from them"
   ]
  },
  {
   "cell_type": "code",
   "execution_count": 42,
   "metadata": {},
   "outputs": [
    {
     "data": {
      "text/plain": [
       "sl_nr                             int64\n",
       "messstelle_id                     int64\n",
       "name                             object\n",
       "e32                              object\n",
       "n32                              object\n",
       "gw_stockwerk                    float64\n",
       "grundstueck                      object\n",
       "gemeinde_id                      object\n",
       "gwhorizont_id                    object\n",
       "gwhorizont                       object\n",
       "gwleiter_id                      object\n",
       "gwleiter                         object\n",
       "einrichtungsgrund                object\n",
       "gwk_lage_auf_id                  object\n",
       "gwk_lage_id                      object\n",
       "gwk_monitoring_auf_id            object\n",
       "gwk_monitoring_id                object\n",
       "messprogramm                     object\n",
       "turnus_wasserstand               object\n",
       "freigabe_wstd                    object\n",
       "freigabe_chemie                  object\n",
       "freigabe_lage                    object\n",
       "wasserstandsmessstelle           object\n",
       "guetemessstelle                  object\n",
       "im_wrrl_messnetz_chemie          object\n",
       "im_wrrl_messnetz_wasserstand     object\n",
       "messstellenart                   object\n",
       "wasserart                        object\n",
       "labor                            object\n",
       "beobachtung_wasserstand          object\n",
       "eigentuemer                      object\n",
       "betreiber                        object\n",
       "filterlaenge_cm                 float64\n",
       "sumpfrohrlaenge_cm              float64\n",
       "ausbaudurchmesser_mm            float64\n",
       "historischer_ruhe_wsp           float64\n",
       "einbaulaenge_cm                 float64\n",
       "oberkante_filter_cm             float64\n",
       "unterkante_filter_cm            float64\n",
       "dtype: object"
      ]
     },
     "execution_count": 42,
     "metadata": {},
     "output_type": "execute_result"
    }
   ],
   "source": [
    "df.dtypes"
   ]
  },
  {
   "cell_type": "markdown",
   "metadata": {},
   "source": [
    "## change some data types\n",
    "* e32 to Int\n",
    "* n32 to Int\n",
    "* drop NA value\n",
    "\n",
    "First step, we must drop the NA value.\n",
    "Second step is some rows the last two digit are xx which means that the exact location is not avaliable. \n",
    "Now we need to replace this xx with two digit. These two xx could be in the range of 00 to 99. \n",
    "In here we replace the xx with 50"
   ]
  },
  {
   "cell_type": "code",
   "execution_count": 43,
   "metadata": {},
   "outputs": [],
   "source": [
    "# drop NA\n",
    "df = df.dropna(subset=['e32'])\n",
    "df = df.dropna(subset=['n32'])"
   ]
  },
  {
   "cell_type": "code",
   "execution_count": 21,
   "metadata": {},
   "outputs": [
    {
     "data": {
      "text/plain": [
       "0        343064\n",
       "1        292077\n",
       "2        287141\n",
       "3        309490\n",
       "4        316741\n",
       "          ...  \n",
       "71115    468938\n",
       "71116    3338xx\n",
       "71117    331861\n",
       "71118    3604xx\n",
       "71119    3379xx\n",
       "Name: e32, Length: 71120, dtype: object"
      ]
     },
     "execution_count": 21,
     "metadata": {},
     "output_type": "execute_result"
    }
   ],
   "source": [
    "df.e32"
   ]
  },
  {
   "cell_type": "code",
   "execution_count": 44,
   "metadata": {},
   "outputs": [],
   "source": [
    "# replace all xx with 50\n",
    "\n",
    "df.e32 = df['e32'].replace({'xx':'50'}, regex=True)\n",
    "df.n32 = df['n32'].replace({'xx':'50'}, regex=True)"
   ]
  },
  {
   "cell_type": "code",
   "execution_count": 45,
   "metadata": {},
   "outputs": [],
   "source": [
    "# convert e32 and n32 to int\n",
    "df['e32'] = df['e32'].astype(int)\n",
    "df['n32'] = df['n32'].astype(int)"
   ]
  },
  {
   "cell_type": "markdown",
   "metadata": {},
   "source": [
    "### Now the e32 and n32 are int"
   ]
  },
  {
   "cell_type": "code",
   "execution_count": 46,
   "metadata": {},
   "outputs": [
    {
     "data": {
      "text/plain": [
       "sl_nr                             int64\n",
       "messstelle_id                     int64\n",
       "name                             object\n",
       "e32                               int32\n",
       "n32                               int32\n",
       "gw_stockwerk                    float64\n",
       "grundstueck                      object\n",
       "gemeinde_id                      object\n",
       "gwhorizont_id                    object\n",
       "gwhorizont                       object\n",
       "gwleiter_id                      object\n",
       "gwleiter                         object\n",
       "einrichtungsgrund                object\n",
       "gwk_lage_auf_id                  object\n",
       "gwk_lage_id                      object\n",
       "gwk_monitoring_auf_id            object\n",
       "gwk_monitoring_id                object\n",
       "messprogramm                     object\n",
       "turnus_wasserstand               object\n",
       "freigabe_wstd                    object\n",
       "freigabe_chemie                  object\n",
       "freigabe_lage                    object\n",
       "wasserstandsmessstelle           object\n",
       "guetemessstelle                  object\n",
       "im_wrrl_messnetz_chemie          object\n",
       "im_wrrl_messnetz_wasserstand     object\n",
       "messstellenart                   object\n",
       "wasserart                        object\n",
       "labor                            object\n",
       "beobachtung_wasserstand          object\n",
       "eigentuemer                      object\n",
       "betreiber                        object\n",
       "filterlaenge_cm                 float64\n",
       "sumpfrohrlaenge_cm              float64\n",
       "ausbaudurchmesser_mm            float64\n",
       "historischer_ruhe_wsp           float64\n",
       "einbaulaenge_cm                 float64\n",
       "oberkante_filter_cm             float64\n",
       "unterkante_filter_cm            float64\n",
       "dtype: object"
      ]
     },
     "execution_count": 46,
     "metadata": {},
     "output_type": "execute_result"
    }
   ],
   "source": [
    "df.dtypes"
   ]
  },
  {
   "cell_type": "code",
   "execution_count": 47,
   "metadata": {},
   "outputs": [
    {
     "data": {
      "text/plain": [
       "0        343064\n",
       "1        292077\n",
       "2        287141\n",
       "3        309490\n",
       "4        316741\n",
       "          ...  \n",
       "71115    468938\n",
       "71116    333850\n",
       "71117    331861\n",
       "71118    360450\n",
       "71119    337950\n",
       "Name: e32, Length: 71119, dtype: int32"
      ]
     },
     "execution_count": 47,
     "metadata": {},
     "output_type": "execute_result"
    }
   ],
   "source": [
    "df['e32']"
   ]
  },
  {
   "cell_type": "markdown",
   "metadata": {},
   "source": [
    "### check externally\n",
    "in order to check the all rows externally we can write it in csv file"
   ]
  },
  {
   "cell_type": "code",
   "execution_count": 31,
   "metadata": {},
   "outputs": [],
   "source": [
    "df.to_csv(\"test.csv\")"
   ]
  },
  {
   "cell_type": "markdown",
   "metadata": {},
   "source": [
    "Other columns have no problem and the data is ready to import to Database."
   ]
  },
  {
   "cell_type": "markdown",
   "metadata": {},
   "source": [
    "## write in Database\n",
    "Now we want to import our df to postgres database.\n",
    "\n",
    "* First we have to connect to our Database URL\n",
    "* then we can write into the our database. we need to assign in which Schema we want to add our data frame. in this case I have added my data frame to the schema \"Sina\" which has been created before in the PGadmin."
   ]
  },
  {
   "cell_type": "code",
   "execution_count": 55,
   "metadata": {},
   "outputs": [],
   "source": [
    "# write your sql url below\n",
    "engine = sqlalchemy.create_engine(\"postgresql://xxxxxxxxxxxxxxxxxxx\")\n"
   ]
  },
  {
   "cell_type": "code",
   "execution_count": 49,
   "metadata": {},
   "outputs": [
    {
     "name": "stdout",
     "output_type": "stream",
     "text": [
      "Wall time: 52min 35s\n"
     ]
    }
   ],
   "source": [
    "%time df.to_sql(con=engine, name=\"messstelle\", schema=\"sachin\", if_exists=\"replace\", index=False)"
   ]
  },
  {
   "cell_type": "markdown",
   "metadata": {},
   "source": [
    "### Create geometry columns\n",
    "\n",
    "Now everything is fine and our data has been imported to Database successfully. but still someting important is missing.\n",
    "We have e32 and new columns but in order to map these location correclty and exatly in QGIS, we need geometry information. \n",
    "\n",
    "in order to create geometry columns from n32 and e32 the follwing step is required. \n",
    "\n"
   ]
  },
  {
   "cell_type": "code",
   "execution_count": 56,
   "metadata": {},
   "outputs": [],
   "source": [
    "quary = \"\"\" ALTER TABLE sina.messstelle ADD COLUMN geom geometry(Point, 25832);\n",
    " UPDATE sina.messstelle SET geom = ST_SetSRID(ST_MakePoint(e32, n32), 25832);\"\"\""
   ]
  },
  {
   "cell_type": "code",
   "execution_count": 57,
   "metadata": {},
   "outputs": [
    {
     "data": {
      "text/plain": [
       "<sqlalchemy.engine.result.ResultProxy at 0x1eee82b0400>"
      ]
     },
     "execution_count": 57,
     "metadata": {},
     "output_type": "execute_result"
    }
   ],
   "source": [
    "engine.execute(quary)"
   ]
  },
  {
   "cell_type": "markdown",
   "metadata": {},
   "source": [
    "Now everything is fine and the data has been imported to our database with geometry columns sucessfully. You can see the data in PGadmin as well. "
   ]
  },
  {
   "cell_type": "markdown",
   "metadata": {},
   "source": [
    "## Finish!\n",
    "\n",
    "That's great, You have imported the table successfully in Postgres Database."
   ]
  },
  {
   "cell_type": "code",
   "execution_count": null,
   "metadata": {},
   "outputs": [],
   "source": []
  }
 ],
 "metadata": {
  "kernelspec": {
   "display_name": "Python 3 (ipykernel)",
   "language": "python",
   "name": "python3"
  },
  "language_info": {
   "codemirror_mode": {
    "name": "ipython",
    "version": 3
   },
   "file_extension": ".py",
   "mimetype": "text/x-python",
   "name": "python",
   "nbconvert_exporter": "python",
   "pygments_lexer": "ipython3",
   "version": "3.9.12"
  }
 },
 "nbformat": 4,
 "nbformat_minor": 4
}
